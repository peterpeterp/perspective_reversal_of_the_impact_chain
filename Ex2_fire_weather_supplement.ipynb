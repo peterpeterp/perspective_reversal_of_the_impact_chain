{
 "cells": [
  {
   "cell_type": "markdown",
   "metadata": {},
   "source": [
    "# Example 2: Fire weather in Portugal\n",
    "\n",
    "This notebook shows how to reproduce `Ex2_fwixd_PRT_percentiles_for_GMT_levels.nc`\n",
    "\n",
    "First steps:\n",
    "\n",
    "1) Download the GMT trajectories of PROVIDE scenarios (https://zenodo.org/records/6833278)\n",
    "\n",
    "2) Create fire weather emulations for GMT trajectories listed in `fair_mesmer_coupling.csv` using MESMER-X (https://zenodo.org/records/10300296)"
   ]
  },
  {
   "cell_type": "code",
   "execution_count": 1,
   "metadata": {},
   "outputs": [],
   "source": [
    "import os,sys,glob,traceback, pickle\n",
    "import pandas as pd\n",
    "import xarray as xr\n",
    "import numpy as np\n",
    "import scipy\n",
    "from scipy import stats\n",
    "from scipy.special import erf\n",
    "import matplotlib.pyplot as plt\n",
    "from multiprocessing import Pool"
   ]
  },
  {
   "cell_type": "code",
   "execution_count": null,
   "metadata": {},
   "outputs": [],
   "source": [
    "source = '/location/where/mesmer-x/emulations/are/stored/'\n",
    "indicator = 'fwixd'\n",
    "region = 'PRT'\n",
    "\n",
    "scenario_dict = {\n",
    "    'CurPol' : 'curpol-sap',\n",
    "    'ModAct' : 'modact-sap',\n",
    "    'Ren' : 'ren',\n",
    "    'LD' : 'ld',\n",
    "    'GS' : 'gs',\n",
    "    'SP' : 'sp',\n",
    "    'Neg' : 'neg-os-0',\n",
    "    'ssp119' : 'ssp119-extended',\n",
    "    'ssp534-over' : 'ssp534-over-extended',\n",
    "    'Ref_1p5' : 'ref-1p5-extended',\n",
    "}\n",
    "\n",
    "# Table that shows which FaIR runs is used for which MESMER-X emulation\n",
    "fair_mesmer_run = pd.read_csv('fair_mesmer_coupling.csv')\n",
    "\n",
    "# see what ESMs are available\n",
    "esms = np.unique([fl.split('_')[-6] for fl in\\\n",
    "     glob.glob(f'{source}/{indicator}/mesmerx_*_*_{indicator}_regional_averages_realisations.nc')])"
   ]
  },
  {
   "cell_type": "code",
   "execution_count": null,
   "metadata": {},
   "outputs": [],
   "source": [
    "gmts = np.arange(0.0, 5., 0.1).round(1)\n",
    "# match years to gmt bins\n",
    "selected_years = {}\n",
    "for scenario in scenarios:\n",
    "    fair2mesmer = {k:v for k,v in zip(fair_mesmer_run[scenario].values, fair_mesmer_run[scenario].index)}\n",
    "    mesmer2fair = {v:k for k,v in zip(fair_mesmer_run[scenario].values, fair_mesmer_run[scenario].index)}\n",
    "\n",
    "    # identify runs that were used for mesmer emulations\n",
    "    relevant_runs = sorted(fair2mesmer.keys())\n",
    "\n",
    "    # load gmst trajectories from fair\n",
    "    gmst = pd.read_csv(f'../fair_temperatures/scen_{scenario}.csv', index_col=0)\n",
    "    gmst.columns = [int(c) for c in gmst.columns]\n",
    "\n",
    "    # select gmst trajectories that correspond to the mesmer emulations\n",
    "    gmst = gmst.loc[:,relevant_runs]\n",
    "    gmst.columns = [fair2mesmer[c] for c in gmst.columns]\n",
    "\n",
    "    # apply 21-year running mean\n",
    "    gmst = gmst.rolling(window=21, center=True).mean()\n",
    "    gmst = gmst.iloc[10:-10]\n",
    "    gmst = gmst.melt(value_vars=gmst.columns, var_name='run', value_name='gmst', ignore_index=False)\n",
    "\n",
    "    # construct dict of years that match gmst bin in given run\n",
    "    selected_years[scenario] = {r:{g:list(gmst.loc[(gmst.run == r) & (np.abs(gmst.gmst - g) < 0.05)].index) \\\n",
    "                                    for g in gmts} for r in range(100)}\n"
   ]
  },
  {
   "cell_type": "code",
   "execution_count": null,
   "metadata": {},
   "outputs": [],
   "source": [
    "def do_one_scenario(scenario):\n",
    "    x = np.array([])\n",
    "    # open dummy file and construct a gmt mask\n",
    "    # the mask has the same dimensions as a mesmerX emulation file, but with the gmt in that year instead of the mesmerx value \n",
    "    fl = f'{source}/{indicator}/mesmerx_CanESM5_{scenario_dict[scenario]}_{indicator}.nc'\n",
    "    y = xr.open_dataset(fl)[indicator].loc[:2100]\n",
    "\n",
    "    gmt_mask = y.copy() * np.nan\n",
    "    for run in range(100):\n",
    "        years = np.array(selected_years[scenario][run][gmt])\n",
    "        years = years[years <= 2100]\n",
    "        gmt_mask.loc[years,run,:] = gmt\n",
    "\n",
    "    # go through esms, open file and store all values corresponding to the gmt (global vriable) in x\n",
    "    for esm in esms:\n",
    "        fl = f'{source}/{indicator}/mesmerx_{esm}_{scenario_name_mesmerX}_{indicator}.nc'\n",
    "        y = xr.open_dataset(fl)[indicator].loc[:2100,'PRT'].values\n",
    "\n",
    "        # calculate are average over Portugal\n",
    "        reg_mask = regionmask.defined_regions.natural_earth_v5_0_0.countries_110.mask_3D_frac_approx(y.lon, y.lat)\n",
    "        reg_mask = reg_mask[reg_mask.names == 'Russia'].squeeze()\n",
    "        reg_mask *= np.repeat(np.cos(np.radians(reg_mask.lat.values)), reg_mask.shape[1]).reshape(reg_mask.shape)\n",
    "        reg_mask /= reg_mask.sum()\n",
    "\n",
    "        x = np.append(x, y[gmt_mask == gmt].flatten())\n",
    "    # save the values\n",
    "    np.savetxt(f\"Ex2_tmp/{gmt}_{scenario}.csv\", x, delimiter=\",\")  "
   ]
  },
  {
   "cell_type": "code",
   "execution_count": null,
   "metadata": {},
   "outputs": [],
   "source": [
    "for gmt in gmts:\n",
    "    with Pool(10) as p:\n",
    "        pool_outputs = list(p.map(do_one_scenario, scenario_dict.keys()))\n",
    "    \n",
    "# construct an array with 100 percentiles for each gmt level\n",
    "percentiles = xr.DataArray(dims=['gmt','p'], coords=dict(gmt=gmts, p=np.arange(0,101,1,'int')))\n",
    "for gmt in gmts:\n",
    "    x = np.array([])\n",
    "    for scenario in scenario_dict.keys():\n",
    "        x = np.append(x, np.loadtxt(f\"Ex2_tmp/{gmt}_{scenario}.csv\", delimiter=\",\"))\n",
    "    percentiles.loc[gmt][:] = np.percentile(x, range(101))\n",
    "\n",
    "xr.Dataset({indicator:percentiles}).to_netcdf(f'Ex2_fwixd_PRT_percentiles_for_GMT_levels.nc')"
   ]
  }
 ],
 "metadata": {
  "kernelspec": {
   "display_name": "py_gmlnet",
   "language": "python",
   "name": "python3"
  },
  "language_info": {
   "codemirror_mode": {
    "name": "ipython",
    "version": 3
   },
   "file_extension": ".py",
   "mimetype": "text/x-python",
   "name": "python",
   "nbconvert_exporter": "python",
   "pygments_lexer": "ipython3",
   "version": "3.9.18"
  }
 },
 "nbformat": 4,
 "nbformat_minor": 2
}
